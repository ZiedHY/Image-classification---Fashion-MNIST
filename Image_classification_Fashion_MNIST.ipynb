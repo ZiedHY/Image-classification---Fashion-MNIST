{
  "nbformat": 4,
  "nbformat_minor": 0,
  "metadata": {
    "colab": {
      "name": "Image classification - Fashion MNIST",
      "version": "0.3.2",
      "provenance": [],
      "include_colab_link": true
    },
    "kernelspec": {
      "name": "python3",
      "display_name": "Python 3"
    },
    "accelerator": "GPU"
  },
  "cells": [
    {
      "cell_type": "markdown",
      "metadata": {
        "id": "view-in-github",
        "colab_type": "text"
      },
      "source": [
        "<a href=\"https://colab.research.google.com/github/ZiedHY/Image-classification---Fashion-MNIST/blob/master/Image_classification_Fashion_MNIST.ipynb\" target=\"_parent\"><img src=\"https://colab.research.google.com/assets/colab-badge.svg\" alt=\"Open In Colab\"/></a>"
      ]
    },
    {
      "cell_type": "code",
      "metadata": {
        "id": "Gw2CYOhZ5BBG",
        "colab_type": "code",
        "outputId": "b23fd6e4-975d-4d9e-9316-2c2f4923d2dc",
        "colab": {
          "base_uri": "https://localhost:8080/",
          "height": 224
        }
      },
      "source": [
        "!apt-get install -y -qq software-properties-common python-software-properties module-init-tools\n",
        "!add-apt-repository -y ppa:alessandro-strada/ppa 2>&1 > /dev/null\n",
        "!apt-get update -qq 2>&1 > /dev/null\n",
        "!apt-get -y install -qq google-drive-ocamlfuse fuse\n",
        "from google.colab import auth\n",
        "auth.authenticate_user()\n",
        "from oauth2client.client import GoogleCredentials\n",
        "creds = GoogleCredentials.get_application_default()\n",
        "import getpass\n",
        "!google-drive-ocamlfuse -headless -id={creds.client_id} -secret={creds.client_secret} < /dev/null 2>&1 | grep URL\n",
        "vcode = getpass.getpass()\n",
        "!echo {vcode} | google-drive-ocamlfuse -headless -id={creds.client_id} -secret={creds.client_secret}"
      ],
      "execution_count": 0,
      "outputs": [
        {
          "output_type": "stream",
          "text": [
            "E: Package 'python-software-properties' has no installation candidate\n",
            "Selecting previously unselected package google-drive-ocamlfuse.\n",
            "(Reading database ... 130812 files and directories currently installed.)\n",
            "Preparing to unpack .../google-drive-ocamlfuse_0.7.3-0ubuntu3~ubuntu18.04.1_amd64.deb ...\n",
            "Unpacking google-drive-ocamlfuse (0.7.3-0ubuntu3~ubuntu18.04.1) ...\n",
            "Setting up google-drive-ocamlfuse (0.7.3-0ubuntu3~ubuntu18.04.1) ...\n",
            "Processing triggers for man-db (2.8.3-2ubuntu0.1) ...\n",
            "Please, open the following URL in a web browser: https://accounts.google.com/o/oauth2/auth?client_id=32555940559.apps.googleusercontent.com&redirect_uri=urn%3Aietf%3Awg%3Aoauth%3A2.0%3Aoob&scope=https%3A%2F%2Fwww.googleapis.com%2Fauth%2Fdrive&response_type=code&access_type=offline&approval_prompt=force\n",
            "··········\n",
            "Please, open the following URL in a web browser: https://accounts.google.com/o/oauth2/auth?client_id=32555940559.apps.googleusercontent.com&redirect_uri=urn%3Aietf%3Awg%3Aoauth%3A2.0%3Aoob&scope=https%3A%2F%2Fwww.googleapis.com%2Fauth%2Fdrive&response_type=code&access_type=offline&approval_prompt=force\n",
            "Please enter the verification code: Access token retrieved correctly.\n"
          ],
          "name": "stdout"
        }
      ]
    },
    {
      "cell_type": "code",
      "metadata": {
        "id": "kd8Ivj-azTtj",
        "colab_type": "code",
        "outputId": "4a3e2ec9-189f-4728-a0c6-94128cdec509",
        "colab": {
          "base_uri": "https://localhost:8080/",
          "height": 34
        }
      },
      "source": [
        "from keras.utils import to_categorical\n",
        "from keras.preprocessing.image import ImageDataGenerator\n",
        "import numpy as np\n",
        "import pandas as pd\n",
        "import matplotlib.pyplot as plt\n",
        "from sklearn.model_selection import train_test_split\n"
      ],
      "execution_count": 2,
      "outputs": [
        {
          "output_type": "stream",
          "text": [
            "Using TensorFlow backend.\n"
          ],
          "name": "stderr"
        }
      ]
    },
    {
      "cell_type": "code",
      "metadata": {
        "id": "nSWsrPxf2OTK",
        "colab_type": "code",
        "outputId": "e6efbbfa-2ba6-45dc-e354-bfcfbcca9262",
        "colab": {
          "resources": {
            "http://localhost:8080/nbextensions/google.colab/files.js": {
              "data": "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",
              "ok": true,
              "headers": [
                [
                  "content-type",
                  "application/javascript"
                ]
              ],
              "status": 200,
              "status_text": ""
            }
          },
          "base_uri": "https://localhost:8080/",
          "height": 105
        }
      },
      "source": [
        "from google.colab import files\n",
        "\n",
        "uploaded = files.upload()"
      ],
      "execution_count": 3,
      "outputs": [
        {
          "output_type": "display_data",
          "data": {
            "text/html": [
              "\n",
              "     <input type=\"file\" id=\"files-70b304d4-086f-4833-b6b4-b66b520cf10a\" name=\"files[]\" multiple disabled />\n",
              "     <output id=\"result-70b304d4-086f-4833-b6b4-b66b520cf10a\">\n",
              "      Upload widget is only available when the cell has been executed in the\n",
              "      current browser session. Please rerun this cell to enable.\n",
              "      </output>\n",
              "      <script src=\"/nbextensions/google.colab/files.js\"></script> "
            ],
            "text/plain": [
              "<IPython.core.display.HTML object>"
            ]
          },
          "metadata": {
            "tags": []
          }
        },
        {
          "output_type": "stream",
          "text": [
            "Saving fashion-mnist_train.csv to fashion-mnist_train (1).csv\n",
            "Saving fashion-mnist_test.csv to fashion-mnist_test (1).csv\n"
          ],
          "name": "stdout"
        }
      ]
    },
    {
      "cell_type": "code",
      "metadata": {
        "id": "zQrhEBHg3gHH",
        "colab_type": "code",
        "colab": {}
      },
      "source": [
        "data_train = pd.read_csv(\"fashion-mnist_train.csv\")\n",
        "data_test = pd.read_csv(\"fashion-mnist_test.csv\")"
      ],
      "execution_count": 0,
      "outputs": []
    },
    {
      "cell_type": "code",
      "metadata": {
        "id": "HbkAnRTS9E9C",
        "colab_type": "code",
        "colab": {}
      },
      "source": [
        "img_rows, img_cols = 28, 28\n",
        "# The 3rd dimension is the pixel-value in a grayscale (an integer between 0 and 255)\n",
        "input_shape = (img_rows, img_cols, 1)\n",
        "\n",
        "X = np.array(data_train.iloc[:, 1:])\n",
        "y = to_categorical(np.array(data_train.iloc[:, 0]))\n",
        "\n",
        "#Here we split validation data to optimiza classifier during training\n",
        "X_train, X_val, y_train, y_val = train_test_split(X, y, test_size=0.2, random_state=13)\n",
        "\n",
        "#Test data\n",
        "X_test = np.array(data_test.iloc[:, 1:])\n",
        "y_test = to_categorical(np.array(data_test.iloc[:, 0]))\n",
        "\n",
        "\n",
        "# Reshaping input data \n",
        "X_train = X_train.reshape(X_train.shape[0], img_rows, img_cols, 1)\n",
        "X_test = X_test.reshape(X_test.shape[0], img_rows, img_cols, 1)\n",
        "X_val = X_val.reshape(X_val.shape[0], img_rows, img_cols, 1)\n",
        "\n",
        "# Standardizing input data \n",
        "X_train = X_train.astype('float32')\n",
        "X_test = X_test.astype('float32')\n",
        "X_val = X_val.astype('float32')\n",
        "X_train /= 255\n",
        "X_test /= 255\n",
        "X_val /= 255"
      ],
      "execution_count": 0,
      "outputs": []
    },
    {
      "cell_type": "code",
      "metadata": {
        "id": "pBTcPQnsEHtP",
        "colab_type": "code",
        "colab": {}
      },
      "source": [
        "import keras\n",
        "from keras.models import Sequential\n",
        "from keras.layers import Dense, Dropout, Flatten\n",
        "from keras.layers import Conv2D, MaxPooling2D\n",
        "from keras.layers.normalization import BatchNormalization\n",
        "from keras.utils.training_utils import multi_gpu_model\n",
        "import argparse\n"
      ],
      "execution_count": 0,
      "outputs": []
    },
    {
      "cell_type": "code",
      "metadata": {
        "id": "2dT6hDIrENA2",
        "colab_type": "code",
        "colab": {}
      },
      "source": [
        "# Initialization of CNNs' parameters \n",
        "# Using batches to compute the gradient on a subset of data (mini-bach) and use it as an estimate of the true gradient\n",
        "batch_size = 256 # 16*16 batches\n",
        "num_classes = 10 # number of output classes\n",
        "epochs = 50 # Number of iterations to train the model \n",
        "\n",
        "#input image dimensions\n",
        "img_rows, img_cols = 28, 28\n",
        "\n",
        "# Parameter for Image Data Augumentation\n",
        "shift_fraction=0.005"
      ],
      "execution_count": 0,
      "outputs": []
    },
    {
      "cell_type": "code",
      "metadata": {
        "id": "W6KM7xHHFedl",
        "colab_type": "code",
        "outputId": "47ca1a19-bf75-44ee-c035-3dabfc6a1c00",
        "colab": {
          "base_uri": "https://localhost:8080/",
          "height": 105
        }
      },
      "source": [
        "# Building the architecture \n",
        "model = Sequential()\n",
        "# 32 3*3 filters (feature maps) applied on (28,28,1) images  \n",
        "# ReLU  activation function to introduce non-linearity \n",
        "# kernel_initializer gives kernel weights. Here we use 'he_normal' which draws samples from a truncated normal distribution centered on 0 with stddev = sqrt(2 / fan_in) where fan_in is the number of input units in the weight tensor (9 in this case)\n",
        "model.add(Conv2D(32, kernel_size=(3, 3),\n",
        "                 activation='relu',\n",
        "                 kernel_initializer='he_normal',\n",
        "                 input_shape=input_shape)) \n",
        "# Now: model.output_shape == (None, 26, 26, 32) \n",
        "\n",
        "# Pooling to reduce dimensionality and preserve spatial invariance\n",
        "# Max pool with 2*2 filters and stride 1 \n",
        "model.add(MaxPooling2D((2, 2)))\n",
        "# Now: model.output_shape == (None, 13, 13, 32) \n",
        "\n",
        "# Dropout: in each iteration, we randomly dropout 25% of the hidden neurals to avoid building too complex models that \"memorize\" data. The output shape is not affected.  \n",
        "model.add(Dropout(0.25))\n",
        "\n",
        "# Introducing a new layer following the same process described above \n",
        "\n",
        "# Here the output depth is 64 \n",
        "model.add(Conv2D(64, (3, 3), activation='relu'))\n",
        "# Now: model.output_shape == (None, 11, 11, 64) \n",
        "\n",
        "model.add(MaxPooling2D(pool_size=(2, 2)))\n",
        "# Now: model.output_shape == (None, 5, 5, 64) \n",
        "\n",
        "model.add(Dropout(0.25))\n",
        "\n",
        "# Introducing a new layer following the same process described above \n",
        "\n",
        "# Here the output depth is 128 and 40% of data from the previous layer is not used  \n",
        "# Now: model.output_shape == (None, 3, 3, 128)\n",
        "model.add(Conv2D(128, (3, 3), activation='relu'))\n",
        "model.add(Dropout(0.4))\n",
        "\n",
        "# Flatten() to flatten the input\n",
        "# Now: model.output_shape == (None, 1152 = 3*3*128)\n",
        "model.add(Flatten())\n",
        "model.add(Dense(128, activation='relu'))\n",
        "model.add(Dropout(0.3))\n",
        "# In the final layer, we use softmax transformation to have output values between 0 and 1 (probabilty of image belonging to a particular class)\n",
        "model.add(Dense(num_classes, activation='softmax'))"
      ],
      "execution_count": 0,
      "outputs": [
        {
          "output_type": "stream",
          "text": [
            "/usr/local/lib/python3.6/dist-packages/keras/backend/mxnet_backend.py:89: UserWarning: MXNet Backend performs best with `channels_first` format. Using `channels_last` will significantly reduce performance due to the Transpose operations. For performance improvement, please use this API`keras.utils.to_channels_first(x_input)`to transform `channels_last` data to `channels_first` format and also please change the `image_data_format` in `keras.json` to `channels_first`.Note: `x_input` is a Numpy tensor or a list of Numpy tensorRefer to: https://github.com/awslabs/keras-apache-mxnet/tree/master/docs/mxnet_backend/performance_guide.md\n",
            "  train_symbol = func(*args, **kwargs)\n",
            "/usr/local/lib/python3.6/dist-packages/keras/backend/mxnet_backend.py:92: UserWarning: MXNet Backend performs best with `channels_first` format. Using `channels_last` will significantly reduce performance due to the Transpose operations. For performance improvement, please use this API`keras.utils.to_channels_first(x_input)`to transform `channels_last` data to `channels_first` format and also please change the `image_data_format` in `keras.json` to `channels_first`.Note: `x_input` is a Numpy tensor or a list of Numpy tensorRefer to: https://github.com/awslabs/keras-apache-mxnet/tree/master/docs/mxnet_backend/performance_guide.md\n",
            "  test_symbol = func(*args, **kwargs)\n"
          ],
          "name": "stderr"
        }
      ]
    },
    {
      "cell_type": "code",
      "metadata": {
        "id": "bNwyBkInQKLm",
        "colab_type": "code",
        "colab": {}
      },
      "source": [
        "# Compile the model \n",
        "# Cross entropy is used as a loss function \n",
        "# Adam to adapt the learning rate value for each iteration of the gradient (not consider it as a fixed number)\n",
        "model.compile(loss=keras.losses.categorical_crossentropy,\n",
        "              optimizer=keras.optimizers.Adam(),\n",
        "              metrics=['accuracy'])"
      ],
      "execution_count": 0,
      "outputs": []
    },
    {
      "cell_type": "code",
      "metadata": {
        "id": "6YD6Ph3-Rcg2",
        "colab_type": "code",
        "cellView": "both",
        "colab": {}
      },
      "source": [
        "#@title\n",
        "model.summary()"
      ],
      "execution_count": 0,
      "outputs": []
    },
    {
      "cell_type": "code",
      "metadata": {
        "id": "vaHuMFcNRgzQ",
        "colab_type": "code",
        "outputId": "96e689e1-a91d-45ce-b326-388329798ffb",
        "colab": {
          "base_uri": "https://localhost:8080/",
          "height": 1550
        }
      },
      "source": [
        "# Training \n",
        "history = model.fit(X_train, y_train,\n",
        "          batch_size=batch_size,\n",
        "          epochs=epochs,\n",
        "          verbose=1,\n",
        "          validation_data=(X_val, y_val))\n",
        "score = model.evaluate(X_test, y_test, verbose=0)"
      ],
      "execution_count": 0,
      "outputs": [
        {
          "output_type": "stream",
          "text": [
            "Train on 48000 samples, validate on 12000 samples\n",
            "Epoch 1/50\n",
            "48000/48000 [==============================] - 148s 3ms/step - loss: 0.3354 - acc: 0.8787 - val_loss: 0.2909 - val_acc: 0.8909\n",
            "Epoch 2/50\n",
            "48000/48000 [==============================] - 148s 3ms/step - loss: 0.3211 - acc: 0.8815 - val_loss: 0.2839 - val_acc: 0.8953\n",
            "Epoch 3/50\n",
            "11264/48000 [======>.......................] - ETA: 1:43 - loss: 0.3206 - acc: 0.8819"
          ],
          "name": "stdout"
        },
        {
          "output_type": "stream",
          "text": [
            "48000/48000 [==============================] - 149s 3ms/step - loss: 0.3120 - acc: 0.8866 - val_loss: 0.2799 - val_acc: 0.8948\n",
            "Epoch 4/50\n",
            "48000/48000 [==============================] - 149s 3ms/step - loss: 0.2990 - acc: 0.8898 - val_loss: 0.2663 - val_acc: 0.9003\n",
            "Epoch 5/50\n",
            "32000/48000 [===================>..........] - ETA: 45s - loss: 0.2866 - acc: 0.8926"
          ],
          "name": "stdout"
        },
        {
          "output_type": "stream",
          "text": [
            "48000/48000 [==============================] - 149s 3ms/step - loss: 0.2877 - acc: 0.8931 - val_loss: 0.2609 - val_acc: 0.9026\n",
            "Epoch 6/50\n",
            "48000/48000 [==============================] - 148s 3ms/step - loss: 0.2836 - acc: 0.8952 - val_loss: 0.2552 - val_acc: 0.9048\n",
            "Epoch 7/50\n",
            "37120/48000 [======================>.......] - ETA: 30s - loss: 0.2745 - acc: 0.8984"
          ],
          "name": "stdout"
        },
        {
          "output_type": "stream",
          "text": [
            "48000/48000 [==============================] - 147s 3ms/step - loss: 0.2748 - acc: 0.8989 - val_loss: 0.2599 - val_acc: 0.9033\n",
            "Epoch 8/50\n",
            "48000/48000 [==============================] - 147s 3ms/step - loss: 0.2678 - acc: 0.9012 - val_loss: 0.2440 - val_acc: 0.9071\n",
            "Epoch 9/50\n",
            "38144/48000 [======================>.......] - ETA: 27s - loss: 0.2646 - acc: 0.9040"
          ],
          "name": "stdout"
        },
        {
          "output_type": "stream",
          "text": [
            "48000/48000 [==============================] - 148s 3ms/step - loss: 0.2653 - acc: 0.9030 - val_loss: 0.2432 - val_acc: 0.9083\n",
            "Epoch 10/50\n",
            "48000/48000 [==============================] - 149s 3ms/step - loss: 0.2636 - acc: 0.9019 - val_loss: 0.2389 - val_acc: 0.9110\n",
            "Epoch 11/50\n",
            "38144/48000 [======================>.......] - ETA: 28s - loss: 0.2532 - acc: 0.9063"
          ],
          "name": "stdout"
        },
        {
          "output_type": "stream",
          "text": [
            "48000/48000 [==============================] - 148s 3ms/step - loss: 0.2536 - acc: 0.9070 - val_loss: 0.2352 - val_acc: 0.9125\n",
            "Epoch 12/50\n",
            "48000/48000 [==============================] - 148s 3ms/step - loss: 0.2515 - acc: 0.9078 - val_loss: 0.2365 - val_acc: 0.9125\n",
            "Epoch 13/50\n",
            "38144/48000 [======================>.......] - ETA: 27s - loss: 0.2446 - acc: 0.9091"
          ],
          "name": "stdout"
        },
        {
          "output_type": "stream",
          "text": [
            "48000/48000 [==============================] - 147s 3ms/step - loss: 0.2466 - acc: 0.9083 - val_loss: 0.2309 - val_acc: 0.9132\n",
            "Epoch 14/50\n",
            "48000/48000 [==============================] - 147s 3ms/step - loss: 0.2420 - acc: 0.9095 - val_loss: 0.2307 - val_acc: 0.9136\n",
            "Epoch 15/50\n",
            "38144/48000 [======================>.......] - ETA: 28s - loss: 0.2394 - acc: 0.9112"
          ],
          "name": "stdout"
        },
        {
          "output_type": "stream",
          "text": [
            "48000/48000 [==============================] - 148s 3ms/step - loss: 0.2399 - acc: 0.9106 - val_loss: 0.2264 - val_acc: 0.9157\n",
            "Epoch 16/50\n",
            "48000/48000 [==============================] - 148s 3ms/step - loss: 0.2361 - acc: 0.9115 - val_loss: 0.2374 - val_acc: 0.9103\n",
            "Epoch 17/50\n",
            "38144/48000 [======================>.......] - ETA: 27s - loss: 0.2298 - acc: 0.9137"
          ],
          "name": "stdout"
        },
        {
          "output_type": "stream",
          "text": [
            "48000/48000 [==============================] - 147s 3ms/step - loss: 0.2334 - acc: 0.9126 - val_loss: 0.2290 - val_acc: 0.9154\n",
            "Epoch 18/50\n",
            "48000/48000 [==============================] - 147s 3ms/step - loss: 0.2298 - acc: 0.9141 - val_loss: 0.2300 - val_acc: 0.9140\n",
            "Epoch 19/50\n",
            "38144/48000 [======================>.......] - ETA: 27s - loss: 0.2261 - acc: 0.9159"
          ],
          "name": "stdout"
        },
        {
          "output_type": "stream",
          "text": [
            "48000/48000 [==============================] - 146s 3ms/step - loss: 0.2270 - acc: 0.9153 - val_loss: 0.2219 - val_acc: 0.9197\n",
            "Epoch 20/50\n",
            "48000/48000 [==============================] - 146s 3ms/step - loss: 0.2271 - acc: 0.9159 - val_loss: 0.2201 - val_acc: 0.9183\n",
            "Epoch 21/50\n",
            "38144/48000 [======================>.......] - ETA: 27s - loss: 0.2220 - acc: 0.9187"
          ],
          "name": "stdout"
        },
        {
          "output_type": "stream",
          "text": [
            "48000/48000 [==============================] - 146s 3ms/step - loss: 0.2227 - acc: 0.9172 - val_loss: 0.2208 - val_acc: 0.9162\n",
            "Epoch 22/50\n",
            "48000/48000 [==============================] - 146s 3ms/step - loss: 0.2196 - acc: 0.9170 - val_loss: 0.2170 - val_acc: 0.9182\n",
            "Epoch 23/50\n",
            "38144/48000 [======================>.......] - ETA: 27s - loss: 0.2108 - acc: 0.9216"
          ],
          "name": "stdout"
        },
        {
          "output_type": "stream",
          "text": [
            "48000/48000 [==============================] - 146s 3ms/step - loss: 0.2138 - acc: 0.9205 - val_loss: 0.2221 - val_acc: 0.9183\n",
            "Epoch 24/50\n",
            "48000/48000 [==============================] - 146s 3ms/step - loss: 0.2157 - acc: 0.9192 - val_loss: 0.2152 - val_acc: 0.9204\n",
            "Epoch 25/50\n",
            "38144/48000 [======================>.......] - ETA: 27s - loss: 0.2118 - acc: 0.9204"
          ],
          "name": "stdout"
        },
        {
          "output_type": "stream",
          "text": [
            "48000/48000 [==============================] - 146s 3ms/step - loss: 0.2144 - acc: 0.9191 - val_loss: 0.2193 - val_acc: 0.9183\n",
            "Epoch 26/50\n",
            "48000/48000 [==============================] - 146s 3ms/step - loss: 0.2099 - acc: 0.9214 - val_loss: 0.2163 - val_acc: 0.9196\n",
            "Epoch 27/50\n",
            "38144/48000 [======================>.......] - ETA: 27s - loss: 0.2072 - acc: 0.9223"
          ],
          "name": "stdout"
        },
        {
          "output_type": "stream",
          "text": [
            "48000/48000 [==============================] - 147s 3ms/step - loss: 0.2085 - acc: 0.9214 - val_loss: 0.2230 - val_acc: 0.9174\n",
            "Epoch 28/50\n",
            "48000/48000 [==============================] - 146s 3ms/step - loss: 0.2065 - acc: 0.9228 - val_loss: 0.2108 - val_acc: 0.9223\n",
            "Epoch 29/50\n",
            "38144/48000 [======================>.......] - ETA: 27s - loss: 0.2026 - acc: 0.9239"
          ],
          "name": "stdout"
        },
        {
          "output_type": "stream",
          "text": [
            "48000/48000 [==============================] - 146s 3ms/step - loss: 0.2052 - acc: 0.9228 - val_loss: 0.2127 - val_acc: 0.9200\n",
            "Epoch 30/50\n",
            "48000/48000 [==============================] - 147s 3ms/step - loss: 0.2050 - acc: 0.9229 - val_loss: 0.2150 - val_acc: 0.9177\n",
            "Epoch 31/50\n",
            "38144/48000 [======================>.......] - ETA: 27s - loss: 0.2004 - acc: 0.9254"
          ],
          "name": "stdout"
        },
        {
          "output_type": "stream",
          "text": [
            "48000/48000 [==============================] - 147s 3ms/step - loss: 0.2034 - acc: 0.9244 - val_loss: 0.2119 - val_acc: 0.9221\n",
            "Epoch 32/50\n",
            "48000/48000 [==============================] - 147s 3ms/step - loss: 0.1983 - acc: 0.9243 - val_loss: 0.2186 - val_acc: 0.9188\n",
            "Epoch 33/50\n",
            "38144/48000 [======================>.......] - ETA: 27s - loss: 0.1971 - acc: 0.9269"
          ],
          "name": "stdout"
        },
        {
          "output_type": "stream",
          "text": [
            "48000/48000 [==============================] - 147s 3ms/step - loss: 0.1963 - acc: 0.9269 - val_loss: 0.2154 - val_acc: 0.9219\n",
            "Epoch 34/50\n",
            "48000/48000 [==============================] - 147s 3ms/step - loss: 0.1992 - acc: 0.9259 - val_loss: 0.2113 - val_acc: 0.9218\n",
            "Epoch 35/50\n",
            "38144/48000 [======================>.......] - ETA: 27s - loss: 0.1957 - acc: 0.9249"
          ],
          "name": "stdout"
        },
        {
          "output_type": "stream",
          "text": [
            "48000/48000 [==============================] - 146s 3ms/step - loss: 0.1959 - acc: 0.9254 - val_loss: 0.2200 - val_acc: 0.9197\n",
            "Epoch 36/50\n",
            "48000/48000 [==============================] - 147s 3ms/step - loss: 0.1954 - acc: 0.9268 - val_loss: 0.2109 - val_acc: 0.9215\n",
            "Epoch 37/50\n",
            "38144/48000 [======================>.......] - ETA: 27s - loss: 0.1907 - acc: 0.9279"
          ],
          "name": "stdout"
        },
        {
          "output_type": "stream",
          "text": [
            "48000/48000 [==============================] - 147s 3ms/step - loss: 0.1922 - acc: 0.9279 - val_loss: 0.2080 - val_acc: 0.9226\n",
            "Epoch 38/50\n",
            "48000/48000 [==============================] - 146s 3ms/step - loss: 0.1905 - acc: 0.9281 - val_loss: 0.2107 - val_acc: 0.9236\n",
            "Epoch 39/50\n",
            "38144/48000 [======================>.......] - ETA: 27s - loss: 0.1892 - acc: 0.9289"
          ],
          "name": "stdout"
        },
        {
          "output_type": "stream",
          "text": [
            "48000/48000 [==============================] - 148s 3ms/step - loss: 0.1923 - acc: 0.9277 - val_loss: 0.2185 - val_acc: 0.9224\n",
            "Epoch 40/50\n",
            "48000/48000 [==============================] - 148s 3ms/step - loss: 0.1904 - acc: 0.9284 - val_loss: 0.2078 - val_acc: 0.9248\n",
            "Epoch 41/50\n",
            "38144/48000 [======================>.......] - ETA: 27s - loss: 0.1902 - acc: 0.9286"
          ],
          "name": "stdout"
        },
        {
          "output_type": "stream",
          "text": [
            "48000/48000 [==============================] - 148s 3ms/step - loss: 0.1895 - acc: 0.9295 - val_loss: 0.2127 - val_acc: 0.9211\n",
            "Epoch 42/50\n",
            "48000/48000 [==============================] - 148s 3ms/step - loss: 0.1870 - acc: 0.9298 - val_loss: 0.2109 - val_acc: 0.9216\n",
            "Epoch 43/50\n",
            "38144/48000 [======================>.......] - ETA: 28s - loss: 0.1862 - acc: 0.9277"
          ],
          "name": "stdout"
        },
        {
          "output_type": "stream",
          "text": [
            "48000/48000 [==============================] - 148s 3ms/step - loss: 0.1880 - acc: 0.9272 - val_loss: 0.2167 - val_acc: 0.9217\n",
            "Epoch 44/50\n",
            "27648/48000 [================>.............] - ETA: 57s - loss: 0.1818 - acc: 0.9327"
          ],
          "name": "stdout"
        }
      ]
    },
    {
      "cell_type": "code",
      "metadata": {
        "id": "7WPkCuCCkEAa",
        "colab_type": "code",
        "outputId": "f78aaa6c-e3a3-473f-bf56-b77d6b428766",
        "colab": {
          "base_uri": "https://localhost:8080/",
          "height": 51
        }
      },
      "source": [
        "print('Test loss:', score[0])\n",
        "print('Test accuracy:', score[1])"
      ],
      "execution_count": 0,
      "outputs": [
        {
          "output_type": "stream",
          "text": [
            "Test loss: 0.2014412712007761\n",
            "Test accuracy: 0.9256\n"
          ],
          "name": "stdout"
        }
      ]
    },
    {
      "cell_type": "code",
      "metadata": {
        "id": "hMloG8P3k31D",
        "colab_type": "code",
        "colab": {}
      },
      "source": [
        "gen = ImageDataGenerator(width_shift_range=shift_fraction,height_shift_range=shift_fraction,horizontal_flip=True)\n",
        "batches = gen.flow(X_train, y_train, batch_size=batch_size)\n",
        "val_batches = gen.flow(X_val, y_val, batch_size=batch_size)                       \n",
        "                       "
      ],
      "execution_count": 0,
      "outputs": []
    },
    {
      "cell_type": "code",
      "metadata": {
        "id": "PbK5SZcCmIFL",
        "colab_type": "code",
        "outputId": "52a143fd-26e6-46b0-d68f-95f1de8bc635",
        "colab": {
          "base_uri": "https://localhost:8080/",
          "height": 1737
        }
      },
      "source": [
        "fashion_train=model.fit_generator(batches, steps_per_epoch=X_train.shape[0]//batch_size, epochs=epochs,validation_data=val_batches, validation_steps=X_val.shape[0]//batch_size, use_multiprocessing=True)"
      ],
      "execution_count": 0,
      "outputs": [
        {
          "output_type": "stream",
          "text": [
            "Epoch 1/50\n",
            "187/187 [==============================] - 16s 87ms/step - loss: 0.3041 - acc: 0.8944 - val_loss: 0.2425 - val_acc: 0.9111\n",
            "Epoch 2/50\n",
            "187/187 [==============================] - 17s 91ms/step - loss: 0.2530 - acc: 0.9083 - val_loss: 0.2339 - val_acc: 0.9142\n",
            "Epoch 3/50\n",
            "117/187 [=================>............] - ETA: 5s - loss: 0.2452 - acc: 0.9101"
          ],
          "name": "stdout"
        },
        {
          "output_type": "stream",
          "text": [
            "187/187 [==============================] - 17s 92ms/step - loss: 0.2448 - acc: 0.9103 - val_loss: 0.2269 - val_acc: 0.9162\n",
            "Epoch 4/50\n",
            "187/187 [==============================] - 17s 93ms/step - loss: 0.2427 - acc: 0.9114 - val_loss: 0.2308 - val_acc: 0.9129\n",
            "Epoch 5/50\n",
            "161/187 [========================>.....] - ETA: 2s - loss: 0.2366 - acc: 0.9123"
          ],
          "name": "stdout"
        },
        {
          "output_type": "stream",
          "text": [
            "187/187 [==============================] - 17s 93ms/step - loss: 0.2354 - acc: 0.9129 - val_loss: 0.2304 - val_acc: 0.9165\n",
            "Epoch 6/50\n",
            "187/187 [==============================] - 17s 93ms/step - loss: 0.2346 - acc: 0.9130 - val_loss: 0.2341 - val_acc: 0.9129\n",
            "Epoch 7/50\n",
            "170/187 [==========================>...] - ETA: 1s - loss: 0.2273 - acc: 0.9162"
          ],
          "name": "stdout"
        },
        {
          "output_type": "stream",
          "text": [
            "187/187 [==============================] - 17s 93ms/step - loss: 0.2278 - acc: 0.9163 - val_loss: 0.2313 - val_acc: 0.9150\n",
            "Epoch 8/50\n",
            "187/187 [==============================] - 17s 93ms/step - loss: 0.2264 - acc: 0.9166 - val_loss: 0.2193 - val_acc: 0.9197\n",
            "Epoch 9/50\n",
            "175/187 [===========================>..] - ETA: 0s - loss: 0.2241 - acc: 0.9144"
          ],
          "name": "stdout"
        },
        {
          "output_type": "stream",
          "text": [
            "187/187 [==============================] - 17s 93ms/step - loss: 0.2249 - acc: 0.9143 - val_loss: 0.2319 - val_acc: 0.9119\n",
            "Epoch 10/50\n",
            "187/187 [==============================] - 17s 92ms/step - loss: 0.2178 - acc: 0.9176 - val_loss: 0.2235 - val_acc: 0.9140\n",
            "Epoch 11/50\n",
            "175/187 [===========================>..] - ETA: 0s - loss: 0.2197 - acc: 0.9178"
          ],
          "name": "stdout"
        },
        {
          "output_type": "stream",
          "text": [
            "187/187 [==============================] - 17s 92ms/step - loss: 0.2197 - acc: 0.9181 - val_loss: 0.2231 - val_acc: 0.9180\n",
            "Epoch 12/50\n",
            "187/187 [==============================] - 17s 92ms/step - loss: 0.2179 - acc: 0.9181 - val_loss: 0.2153 - val_acc: 0.9197\n",
            "Epoch 13/50\n",
            "179/187 [===========================>..] - ETA: 0s - loss: 0.2164 - acc: 0.9188"
          ],
          "name": "stdout"
        },
        {
          "output_type": "stream",
          "text": [
            "187/187 [==============================] - 17s 92ms/step - loss: 0.2159 - acc: 0.9190 - val_loss: 0.2184 - val_acc: 0.9170\n",
            "Epoch 14/50\n",
            "187/187 [==============================] - 17s 92ms/step - loss: 0.2195 - acc: 0.9169 - val_loss: 0.2159 - val_acc: 0.9209\n",
            "Epoch 15/50\n",
            "180/187 [===========================>..] - ETA: 0s - loss: 0.2143 - acc: 0.9199"
          ],
          "name": "stdout"
        },
        {
          "output_type": "stream",
          "text": [
            "187/187 [==============================] - 17s 92ms/step - loss: 0.2140 - acc: 0.9200 - val_loss: 0.2156 - val_acc: 0.9189\n",
            "Epoch 16/50\n",
            "187/187 [==============================] - 17s 91ms/step - loss: 0.2151 - acc: 0.9191 - val_loss: 0.2171 - val_acc: 0.9192\n",
            "Epoch 17/50\n",
            "181/187 [============================>.] - ETA: 0s - loss: 0.2162 - acc: 0.9189"
          ],
          "name": "stdout"
        },
        {
          "output_type": "stream",
          "text": [
            "187/187 [==============================] - 17s 91ms/step - loss: 0.2164 - acc: 0.9188 - val_loss: 0.2159 - val_acc: 0.9213\n",
            "Epoch 18/50\n",
            "187/187 [==============================] - 17s 91ms/step - loss: 0.2153 - acc: 0.9195 - val_loss: 0.2141 - val_acc: 0.9201\n",
            "Epoch 19/50\n",
            "181/187 [============================>.] - ETA: 0s - loss: 0.2158 - acc: 0.9206"
          ],
          "name": "stdout"
        },
        {
          "output_type": "stream",
          "text": [
            "187/187 [==============================] - 17s 91ms/step - loss: 0.2157 - acc: 0.9204 - val_loss: 0.2149 - val_acc: 0.9197\n",
            "Epoch 20/50\n",
            "187/187 [==============================] - 17s 92ms/step - loss: 0.2146 - acc: 0.9202 - val_loss: 0.2173 - val_acc: 0.9198\n",
            "Epoch 21/50\n",
            "182/187 [============================>.] - ETA: 0s - loss: 0.2098 - acc: 0.9210"
          ],
          "name": "stdout"
        },
        {
          "output_type": "stream",
          "text": [
            "187/187 [==============================] - 17s 91ms/step - loss: 0.2101 - acc: 0.9211 - val_loss: 0.2175 - val_acc: 0.9219\n",
            "Epoch 22/50\n",
            "187/187 [==============================] - 17s 91ms/step - loss: 0.2093 - acc: 0.9204 - val_loss: 0.2152 - val_acc: 0.9225\n",
            "Epoch 23/50\n",
            "181/187 [============================>.] - ETA: 0s - loss: 0.2064 - acc: 0.9215"
          ],
          "name": "stdout"
        },
        {
          "output_type": "stream",
          "text": [
            "187/187 [==============================] - 17s 91ms/step - loss: 0.2074 - acc: 0.9214 - val_loss: 0.2130 - val_acc: 0.9210\n",
            "Epoch 24/50\n",
            "187/187 [==============================] - 17s 92ms/step - loss: 0.2135 - acc: 0.9202 - val_loss: 0.2126 - val_acc: 0.9206\n",
            "Epoch 25/50\n",
            "179/187 [===========================>..] - ETA: 0s - loss: 0.2065 - acc: 0.9222"
          ],
          "name": "stdout"
        },
        {
          "output_type": "stream",
          "text": [
            "187/187 [==============================] - 17s 92ms/step - loss: 0.2061 - acc: 0.9226 - val_loss: 0.2119 - val_acc: 0.9204\n",
            "Epoch 26/50\n",
            "187/187 [==============================] - 17s 91ms/step - loss: 0.2075 - acc: 0.9220 - val_loss: 0.2203 - val_acc: 0.9178\n",
            "Epoch 27/50\n",
            "182/187 [============================>.] - ETA: 0s - loss: 0.2025 - acc: 0.9234"
          ],
          "name": "stdout"
        },
        {
          "output_type": "stream",
          "text": [
            "187/187 [==============================] - 17s 92ms/step - loss: 0.2026 - acc: 0.9231 - val_loss: 0.2073 - val_acc: 0.9242\n",
            "Epoch 28/50\n",
            "187/187 [==============================] - 17s 91ms/step - loss: 0.2073 - acc: 0.9219 - val_loss: 0.2130 - val_acc: 0.9209\n",
            "Epoch 29/50\n",
            "181/187 [============================>.] - ETA: 0s - loss: 0.2003 - acc: 0.9224"
          ],
          "name": "stdout"
        },
        {
          "output_type": "stream",
          "text": [
            "187/187 [==============================] - 17s 92ms/step - loss: 0.2007 - acc: 0.9223 - val_loss: 0.2147 - val_acc: 0.9213\n",
            "Epoch 30/50\n",
            "187/187 [==============================] - 17s 90ms/step - loss: 0.2060 - acc: 0.9239 - val_loss: 0.2093 - val_acc: 0.9221\n",
            "Epoch 31/50\n",
            "183/187 [============================>.] - ETA: 0s - loss: 0.2016 - acc: 0.9245"
          ],
          "name": "stdout"
        },
        {
          "output_type": "stream",
          "text": [
            "187/187 [==============================] - 17s 92ms/step - loss: 0.2015 - acc: 0.9244 - val_loss: 0.2116 - val_acc: 0.9223\n",
            "Epoch 32/50\n",
            "187/187 [==============================] - 17s 91ms/step - loss: 0.2035 - acc: 0.9243 - val_loss: 0.2113 - val_acc: 0.9197\n",
            "Epoch 33/50\n",
            "182/187 [============================>.] - ETA: 0s - loss: 0.2023 - acc: 0.9239"
          ],
          "name": "stdout"
        },
        {
          "output_type": "stream",
          "text": [
            "187/187 [==============================] - 17s 93ms/step - loss: 0.2025 - acc: 0.9238 - val_loss: 0.2123 - val_acc: 0.9206\n",
            "Epoch 34/50\n",
            "187/187 [==============================] - 17s 92ms/step - loss: 0.1998 - acc: 0.9247 - val_loss: 0.2123 - val_acc: 0.9234\n",
            "Epoch 35/50\n",
            "183/187 [============================>.] - ETA: 0s - loss: 0.2036 - acc: 0.9235"
          ],
          "name": "stdout"
        },
        {
          "output_type": "stream",
          "text": [
            "187/187 [==============================] - 17s 92ms/step - loss: 0.2044 - acc: 0.9233 - val_loss: 0.2101 - val_acc: 0.9215\n",
            "Epoch 36/50\n",
            "187/187 [==============================] - 17s 92ms/step - loss: 0.1993 - acc: 0.9252 - val_loss: 0.2196 - val_acc: 0.9200\n",
            "Epoch 37/50\n",
            "182/187 [============================>.] - ETA: 0s - loss: 0.2008 - acc: 0.9238"
          ],
          "name": "stdout"
        },
        {
          "output_type": "stream",
          "text": [
            "187/187 [==============================] - 17s 92ms/step - loss: 0.2003 - acc: 0.9239 - val_loss: 0.2103 - val_acc: 0.9227\n",
            "Epoch 38/50\n",
            "187/187 [==============================] - 17s 92ms/step - loss: 0.1965 - acc: 0.9257 - val_loss: 0.2094 - val_acc: 0.9248\n",
            "Epoch 39/50\n",
            "181/187 [============================>.] - ETA: 0s - loss: 0.1985 - acc: 0.9246"
          ],
          "name": "stdout"
        },
        {
          "output_type": "stream",
          "text": [
            "187/187 [==============================] - 17s 92ms/step - loss: 0.1996 - acc: 0.9242 - val_loss: 0.2097 - val_acc: 0.9211\n",
            "Epoch 40/50\n",
            "187/187 [==============================] - 17s 92ms/step - loss: 0.1959 - acc: 0.9268 - val_loss: 0.2064 - val_acc: 0.9243\n",
            "Epoch 41/50\n",
            "183/187 [============================>.] - ETA: 0s - loss: 0.1992 - acc: 0.9265"
          ],
          "name": "stdout"
        },
        {
          "output_type": "stream",
          "text": [
            "187/187 [==============================] - 17s 92ms/step - loss: 0.1986 - acc: 0.9266 - val_loss: 0.2171 - val_acc: 0.9196\n",
            "Epoch 42/50\n",
            "187/187 [==============================] - 17s 92ms/step - loss: 0.1967 - acc: 0.9259 - val_loss: 0.2131 - val_acc: 0.9217\n",
            "Epoch 43/50\n",
            "183/187 [============================>.] - ETA: 0s - loss: 0.1979 - acc: 0.9267"
          ],
          "name": "stdout"
        },
        {
          "output_type": "stream",
          "text": [
            "187/187 [==============================] - 17s 91ms/step - loss: 0.1985 - acc: 0.9265 - val_loss: 0.2077 - val_acc: 0.9227\n",
            "Epoch 44/50\n",
            "187/187 [==============================] - 17s 92ms/step - loss: 0.1947 - acc: 0.9252 - val_loss: 0.2138 - val_acc: 0.9209\n",
            "Epoch 45/50\n",
            "183/187 [============================>.] - ETA: 0s - loss: 0.1919 - acc: 0.9276"
          ],
          "name": "stdout"
        },
        {
          "output_type": "stream",
          "text": [
            "187/187 [==============================] - 17s 92ms/step - loss: 0.1925 - acc: 0.9273 - val_loss: 0.2136 - val_acc: 0.9229\n",
            "Epoch 46/50\n",
            "187/187 [==============================] - 17s 92ms/step - loss: 0.1943 - acc: 0.9262 - val_loss: 0.2141 - val_acc: 0.9226\n",
            "Epoch 47/50\n",
            "183/187 [============================>.] - ETA: 0s - loss: 0.1919 - acc: 0.9263"
          ],
          "name": "stdout"
        },
        {
          "output_type": "stream",
          "text": [
            "187/187 [==============================] - 17s 91ms/step - loss: 0.1924 - acc: 0.9262 - val_loss: 0.2078 - val_acc: 0.9240\n",
            "Epoch 48/50\n",
            "187/187 [==============================] - 17s 92ms/step - loss: 0.1950 - acc: 0.9256 - val_loss: 0.2110 - val_acc: 0.9264\n",
            "Epoch 49/50\n",
            "183/187 [============================>.] - ETA: 0s - loss: 0.1945 - acc: 0.9265"
          ],
          "name": "stdout"
        },
        {
          "output_type": "stream",
          "text": [
            "187/187 [==============================] - 17s 91ms/step - loss: 0.1955 - acc: 0.9260 - val_loss: 0.2098 - val_acc: 0.9227\n",
            "Epoch 50/50\n",
            "187/187 [==============================] - 17s 92ms/step - loss: 0.1931 - acc: 0.9262 - val_loss: 0.2089 - val_acc: 0.9229\n"
          ],
          "name": "stdout"
        }
      ]
    },
    {
      "cell_type": "code",
      "metadata": {
        "id": "V6ASdi0Uma2T",
        "colab_type": "code",
        "outputId": "65b25231-788b-46c7-974d-aca739603eda",
        "colab": {
          "base_uri": "https://localhost:8080/",
          "height": 68
        }
      },
      "source": [
        "# Evaluate Model against test data and get the score\n",
        "score = model.evaluate(X_test, y_test, verbose=0)\n",
        "# Print Metrics\n",
        "print (score)\n",
        "print('Test loss:', score[0])\n",
        "print('Test accuracy:', score[1])"
      ],
      "execution_count": 0,
      "outputs": [
        {
          "output_type": "stream",
          "text": [
            "[0.19595017693936825, 0.9285]\n",
            "Test loss: 0.19595017693936825\n",
            "Test accuracy: 0.9285\n"
          ],
          "name": "stdout"
        }
      ]
    },
    {
      "cell_type": "markdown",
      "metadata": {
        "id": "zYPsrRrPJwIT",
        "colab_type": "text"
      },
      "source": [
        "### Inspecting the output\n",
        "\n",
        "It's always a good idea to inspect the output and make sure everything looks sane. Here we'll look at some examples it gets right, and some examples it gets wrong."
      ]
    },
    {
      "cell_type": "code",
      "metadata": {
        "id": "kZzYCFleJ4XE",
        "colab_type": "code",
        "colab": {}
      },
      "source": [
        "# The predict_classes function outputs the highest probability class\n",
        "# according to the trained classifier for each input example.\n",
        "predicted_classes = model.predict_classes(X_test)\n",
        "\n",
        "# Check which items we got right / wrong\n",
        "correct_indices = [i for i in range(len(y_test)) if np.nonzero(y_test[i])[0][0] == predicted_classes[i]]\n",
        "\n",
        "\n",
        "incorrect_indices = [i for i in range(len(y_test)) if np.nonzero(y_test[i])[0][0] != predicted_classes[i]]\n"
      ],
      "execution_count": 0,
      "outputs": []
    },
    {
      "cell_type": "code",
      "metadata": {
        "id": "fRyaqXT1KCZE",
        "colab_type": "code",
        "outputId": "d46120c5-0d16-4173-b9fd-81a7b5920a93",
        "colab": {
          "base_uri": "https://localhost:8080/",
          "height": 741
        }
      },
      "source": [
        "print(\"Each training and test example is assigned to one of the following labels:\")\n",
        "print(\"0 T-shirt/top\",\"1 Trouser\",\"2 Pullover\",\"3 Dress\",\"4 Coat\",\"5 Sandal\",\"6 Shirt\",\"7 Sneaker\",\"8 Bag\",\"9 Ankle boot\")\n",
        "plt.figure()\n",
        "for i, correct in enumerate(correct_indices[:4]):\n",
        "    plt.subplot(2,2,i+1)\n",
        "    plt.imshow(X_test[correct].reshape(28,28), cmap='gray', interpolation='none')\n",
        "    plt.title(\"Predicted {}, Class {}\".format(predicted_classes[correct], np.nonzero(y_test[correct])[0][0]))\n",
        "plt.figure()\n",
        "for i, incorrect in enumerate(incorrect_indices[:4]):\n",
        "    plt.subplot(2,2,i+1)\n",
        "    plt.imshow(X_test[incorrect].reshape(28,28), cmap='gray', interpolation='none')\n",
        "    plt.title(\"Predicted {}, Class {}\".format(predicted_classes[incorrect], np.nonzero(y_test[correct])[0][0]))"
      ],
      "execution_count": 0,
      "outputs": [
        {
          "output_type": "stream",
          "text": [
            "Each training and test example is assigned to one of the following labels:\n",
            "0 T-shirt/top 1 Trouser 2 Pullover 3 Dress 4 Coat 5 Sandal 6 Shirt 7 Sneaker 8 Bag 9 Ankle boot\n"
          ],
          "name": "stdout"
        },
        {
          "output_type": "display_data",
          "data": {
            "image/png": "[encoded data removed]",
            "text/plain": [
              "<matplotlib.figure.Figure at 0x7f790f27aac8>"
            ]
          },
          "metadata": {
            "tags": []
          }
        },
        {
          "output_type": "display_data",
          "data": {
            "image/png": "[encoded data removed]",
            "text/plain": [
              "<matplotlib.figure.Figure at 0x7f790f98f6a0>"
            ]
          },
          "metadata": {
            "tags": []
          }
        }
      ]
    },
    {
      "cell_type": "code",
      "metadata": {
        "id": "ifO12eGDVrJO",
        "colab_type": "code",
        "outputId": "5b015c66-02a0-4193-9fd3-02bbe9325cd6",
        "colab": {
          "base_uri": "https://localhost:8080/",
          "height": 204
        }
      },
      "source": [
        "data_train[\"label\"].value_counts()"
      ],
      "execution_count": 0,
      "outputs": [
        {
          "output_type": "execute_result",
          "data": {
            "text/plain": [
              "9    6000\n",
              "8    6000\n",
              "7    6000\n",
              "6    6000\n",
              "5    6000\n",
              "4    6000\n",
              "3    6000\n",
              "2    6000\n",
              "1    6000\n",
              "0    6000\n",
              "Name: label, dtype: int64"
            ]
          },
          "metadata": {
            "tags": []
          },
          "execution_count": 90
        }
      ]
    },
    {
      "cell_type": "code",
      "metadata": {
        "id": "hKvyG3ACyqCV",
        "colab_type": "code",
        "outputId": "f99488d6-8cc3-4971-bbb6-50065487f91a",
        "colab": {
          "base_uri": "https://localhost:8080/",
          "height": 119
        }
      },
      "source": [
        "# Install Keras-MXNet v2.1.6 \n",
        "!apt install libnvrtc8.0\n",
        "!pip install mxnet-cu80\n",
        "import mxnet as mx"
      ],
      "execution_count": 0,
      "outputs": [
        {
          "output_type": "stream",
          "text": [
            "Uninstalling mxnet-cu80-1.2.0:\r\n",
            "  Would remove:\r\n",
            "    /usr/local/lib/python3.6/dist-packages/mxnet/*\r\n",
            "    /usr/local/lib/python3.6/dist-packages/mxnet_cu80-1.2.0.dist-info/*\n",
            "Proceed (y/n)? ^C\n",
            "\u001b[31mOperation cancelled by user\u001b[0m\n"
          ],
          "name": "stdout"
        }
      ]
    },
    {
      "cell_type": "code",
      "metadata": {
        "id": "LPifdbvxy4Bk",
        "colab_type": "code",
        "colab": {}
      },
      "source": [
        "fashion_train=model.fit_generator(batches, steps_per_epoch=X_train.shape[0]//batch_size, epochs=epochs,validation_data=val_batches, validation_steps=X_val.shape[0]//batch_size, use_multiprocessing=True)"
      ],
      "execution_count": 0,
      "outputs": []
    },
    {
      "cell_type": "code",
      "metadata": {
        "id": "cNN1pN1Ey-Q3",
        "colab_type": "code",
        "colab": {}
      },
      "source": [
        ""
      ],
      "execution_count": 0,
      "outputs": []
    }
  ]
}